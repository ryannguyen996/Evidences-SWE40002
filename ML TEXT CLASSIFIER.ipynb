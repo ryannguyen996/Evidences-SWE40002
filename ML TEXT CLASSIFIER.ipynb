{
 "cells": [
  {
   "cell_type": "code",
   "execution_count": 1,
   "metadata": {},
   "outputs": [
    {
     "name": "stderr",
     "output_type": "stream",
     "text": [
      "C:\\ProgramData\\Anaconda3\\lib\\site-packages\\sklearn\\utils\\__init__.py:4: DeprecationWarning: Using or importing the ABCs from 'collections' instead of from 'collections.abc' is deprecated, and in 3.8 it will stop working\n",
      "  from collections import Sequence\n"
     ]
    }
   ],
   "source": [
    "import pandas as pd\n",
    "import numpy as np\n",
    "from sklearn.model_selection import train_test_split\n",
    "xl = pd.ExcelFile(r\"Downloads\\2017 S2 Raw data Comments_Final Clean File_With_Score.xlsx\")\n",
    "df = xl.parse(\"Comments\")\n",
    "datax = []\n",
    "datay = []\n",
    "traindata = []\n",
    "traintarget = []\n",
    "testdata = []\n",
    "testtarget = []\n",
    "result = []\n",
    "for x in range (0,2291):\n",
    "    datax.append(df['Comments'][x])\n",
    "    datay.append(df['P/N (1 = Pos, 0 = Neg)'][x])\n",
    "traindata, testdata, traintarget, testtarget = train_test_split(datax, datay, test_size=0.1)"
   ]
  },
  {
   "cell_type": "code",
   "execution_count": 2,
   "metadata": {},
   "outputs": [
    {
     "name": "stderr",
     "output_type": "stream",
     "text": [
      "C:\\ProgramData\\Anaconda3\\lib\\site-packages\\sklearn\\ensemble\\weight_boosting.py:29: DeprecationWarning: numpy.core.umath_tests is an internal NumPy module and should not be imported. It will be removed in a future NumPy release.\n",
      "  from numpy.core.umath_tests import inner1d\n"
     ]
    }
   ],
   "source": [
    "from sklearn.feature_extraction.text import CountVectorizer\n",
    "from sklearn.feature_extraction.text import TfidfTransformer\n",
    "from sklearn.externals import joblib\n",
    "from sklearn.naive_bayes import MultinomialNB\n",
    "from sklearn.pipeline import Pipeline\n",
    "\n",
    "from sklearn.linear_model import SGDClassifier\n",
    "text_clf = Pipeline([('vect', CountVectorizer()),\n",
    "                      ('tfidf', TfidfTransformer()),\n",
    "                      ('clf-svm', SGDClassifier(loss='hinge', penalty='l2',alpha=1e-3, max_iter=5, random_state=42)),])\n",
    "text_clf = text_clf.fit(traindata, traintarget)\n",
    "joblib.dump(text_clf, 'SGDClassifier.pkl') \n",
    "\n",
    "predicted = text_clf.predict(testdata)\n",
    "text_clf = Pipeline([('vect', CountVectorizer()),\n",
    "                     ('tfidf', TfidfTransformer()),\n",
    "                     ('clf', MultinomialNB()),])\n",
    "text_clf = text_clf.fit(traindata, traintarget)\n",
    "\n",
    "predicted = text_clf.predict(testdata)\n",
    "result.append(np.mean(predicted == testtarget))\n",
    "\n",
    "from sklearn.linear_model import SGDClassifier\n",
    "text_clf = Pipeline([('vect', CountVectorizer()),\n",
    "                      ('tfidf', TfidfTransformer()),\n",
    "                      ('clf-svm', SGDClassifier(loss='hinge', penalty='l2',alpha=1e-3, max_iter=5, random_state=42)),])\n",
    "text_clf = text_clf.fit(traindata, traintarget)\n",
    "\n",
    "predicted = text_clf.predict(testdata)\n",
    "result.append(np.mean(predicted == testtarget))\n",
    "\n",
    "from sklearn.neighbors import KNeighborsClassifier\n",
    "text_clf = Pipeline([('vect', CountVectorizer()),\n",
    "                      ('tfidf', TfidfTransformer()),\n",
    "                      ('clf-knc', KNeighborsClassifier()),])\n",
    "text_clf = text_clf.fit(traindata, traintarget)\n",
    "\n",
    "predicted = text_clf.predict(testdata)\n",
    "result.append(np.mean(predicted == testtarget))\n",
    "\n",
    "from sklearn.tree import DecisionTreeClassifier\n",
    "text_clf = Pipeline([('vect', CountVectorizer()),\n",
    "                      ('tfidf', TfidfTransformer()),\n",
    "                      ('clf-dtc', DecisionTreeClassifier()),])\n",
    "text_clf = text_clf.fit(traindata, traintarget)\n",
    "\n",
    "predicted = text_clf.predict(testdata)\n",
    "result.append(np.mean(predicted == testtarget))\n",
    "\n",
    "from sklearn.ensemble import RandomForestClassifier\n",
    "text_clf = Pipeline([('vect', CountVectorizer()),\n",
    "                      ('tfidf', TfidfTransformer()),\n",
    "                      ('clf-rfc', RandomForestClassifier()),])\n",
    "text_clf = text_clf.fit(traindata, traintarget)\n",
    "\n",
    "predicted = text_clf.predict(testdata)\n",
    "result.append(np.mean(predicted == testtarget))\n",
    "\n",
    "from sklearn.ensemble import AdaBoostClassifier\n",
    "text_clf = Pipeline([('vect', CountVectorizer()),\n",
    "                      ('tfidf', TfidfTransformer()),\n",
    "                      ('clf-abc', AdaBoostClassifier()),])\n",
    "text_clf = text_clf.fit(traindata, traintarget)\n",
    "\n",
    "predicted = text_clf.predict(testdata)\n",
    "result.append(np.mean(predicted == testtarget))\n",
    "\n",
    "from sklearn.preprocessing import FunctionTransformer\n",
    "from sklearn.gaussian_process import GaussianProcessClassifier\n",
    "text_clf = Pipeline([('vect', CountVectorizer()),\n",
    "                      ('tfidf', TfidfTransformer()),\n",
    "                     ('to_dense', FunctionTransformer(lambda x: x.todense(), accept_sparse=True)), \n",
    "                      ('clf-gpc', GaussianProcessClassifier()),])\n",
    "text_clf = text_clf.fit(traindata, traintarget)\n",
    "\n",
    "predicted = text_clf.predict(testdata)\n",
    "result.append(np.mean(predicted == testtarget))\n",
    "\n",
    "from sklearn.preprocessing import FunctionTransformer\n",
    "from sklearn.naive_bayes import GaussianNB\n",
    "text_clf = Pipeline([('vect', CountVectorizer()),\n",
    "                      ('tfidf', TfidfTransformer()),\n",
    "                     ('to_dense', FunctionTransformer(lambda x: x.todense(), accept_sparse=True)), \n",
    "                      ('clf-gn', GaussianNB()),])\n",
    "text_clf = text_clf.fit(traindata, traintarget)\n",
    "\n",
    "predicted = text_clf.predict(testdata)\n",
    "result.append(np.mean(predicted == testtarget))\n",
    "\n",
    "from sklearn.neural_network import MLPClassifier\n",
    "text_clf = Pipeline([('vect', CountVectorizer()),\n",
    "                      ('tfidf', TfidfTransformer()),\n",
    "                      ('clf-mc', MLPClassifier()),])\n",
    "text_clf = text_clf.fit(traindata, traintarget)\n",
    "\n",
    "predicted = text_clf.predict(testdata)\n",
    "result.append(np.mean(predicted == testtarget))\n",
    "\n",
    "\n",
    "from sklearn.svm import SVC\n",
    "text_clf = Pipeline([('vect', CountVectorizer()),\n",
    "                      ('tfidf', TfidfTransformer()),\n",
    "                      ('clf-svc', SVC()),])\n",
    "text_clf = text_clf.fit(traindata, traintarget)\n",
    "\n",
    "predicted = text_clf.predict(testdata)\n",
    "result.append(np.mean(predicted == testtarget))"
   ]
  },
  {
   "cell_type": "code",
   "execution_count": 3,
   "metadata": {},
   "outputs": [
    {
     "name": "stdout",
     "output_type": "stream",
     "text": [
      "MultinomialNB : 0.908695652173913\n",
      "SGDClassifier : 0.9391304347826087\n",
      "KNeighborsClassifier : 0.8434782608695652\n",
      "DecisionTreeClassifier : 0.8043478260869565\n",
      "RandomForestClassifier : 0.8565217391304348\n",
      "AdaBoostClassifier : 0.8913043478260869\n",
      "GaussianProcessClassifier : 0.9043478260869565\n",
      "GaussianNB : 0.7304347826086957\n",
      "MLPClassifier : 0.908695652173913\n",
      "SVC : 0.5347826086956522\n"
     ]
    }
   ],
   "source": [
    "print('MultinomialNB :', result[0])\n",
    "print('SGDClassifier :', result[1])\n",
    "print('KNeighborsClassifier :', result[2])\n",
    "print('DecisionTreeClassifier :', result[3])\n",
    "print('RandomForestClassifier :', result[4])\n",
    "print('AdaBoostClassifier :', result[5])\n",
    "print('GaussianProcessClassifier :', result[6])\n",
    "print('GaussianNB :', result[7])\n",
    "print('MLPClassifier :', result[8])\n",
    "print('SVC :', result[9])"
   ]
  },
  {
   "cell_type": "code",
   "execution_count": null,
   "metadata": {},
   "outputs": [],
   "source": []
  }
 ],
 "metadata": {
  "kernelspec": {
   "display_name": "Python 3",
   "language": "python",
   "name": "python3"
  },
  "language_info": {
   "codemirror_mode": {
    "name": "ipython",
    "version": 3
   },
   "file_extension": ".py",
   "mimetype": "text/x-python",
   "name": "python",
   "nbconvert_exporter": "python",
   "pygments_lexer": "ipython3",
   "version": "3.7.0"
  }
 },
 "nbformat": 4,
 "nbformat_minor": 2
}
