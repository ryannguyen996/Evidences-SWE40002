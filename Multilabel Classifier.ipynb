{
 "cells": [
  {
   "cell_type": "code",
   "execution_count": 1,
   "metadata": {},
   "outputs": [
    {
     "name": "stderr",
     "output_type": "stream",
     "text": [
      "C:\\ProgramData\\Anaconda3\\lib\\site-packages\\sklearn\\utils\\__init__.py:4: DeprecationWarning: Using or importing the ABCs from 'collections' instead of from 'collections.abc' is deprecated, and in 3.8 it will stop working\n",
      "  from collections import Sequence\n"
     ]
    }
   ],
   "source": [
    "import re\n",
    "import matplotlib.pyplot as plt\n",
    "from sklearn.model_selection import train_test_split\n",
    "from sklearn.feature_extraction.text import TfidfVectorizer\n",
    "from sklearn.naive_bayes import MultinomialNB\n",
    "from sklearn.metrics import accuracy_score\n",
    "from sklearn.multiclass import OneVsRestClassifier\n",
    "from nltk.corpus import stopwords\n",
    "from sklearn.svm import LinearSVC\n",
    "from sklearn.linear_model import LogisticRegression\n",
    "from sklearn.pipeline import Pipeline\n",
    "import seaborn as sns\n",
    "import pandas as pd\n",
    "import numpy as np\n",
    "from sklearn.linear_model import SGDClassifier\n",
    "from sklearn.model_selection import train_test_split\n",
    "from nltk.stem import WordNetLemmatizer\n",
    "import string\n",
    "from sklearn import svm\n",
    "from sklearn.neural_network import MLPClassifier"
   ]
  },
  {
   "cell_type": "code",
   "execution_count": 2,
   "metadata": {},
   "outputs": [
    {
     "data": {
      "text/plain": [
       "(5531, 6)"
      ]
     },
     "execution_count": 2,
     "metadata": {},
     "output_type": "execute_result"
    }
   ],
   "source": [
    "df = pd.read_excel(r\"Downloads\\Test1 (2).xlsx\", sheet_name=\"Sheet1\")\n",
    "df.shape"
   ]
  },
  {
   "cell_type": "code",
   "execution_count": 3,
   "metadata": {
    "scrolled": true
   },
   "outputs": [
    {
     "data": {
      "text/html": [
       "<div>\n",
       "<style scoped>\n",
       "    .dataframe tbody tr th:only-of-type {\n",
       "        vertical-align: middle;\n",
       "    }\n",
       "\n",
       "    .dataframe tbody tr th {\n",
       "        vertical-align: top;\n",
       "    }\n",
       "\n",
       "    .dataframe thead th {\n",
       "        text-align: right;\n",
       "    }\n",
       "</style>\n",
       "<table border=\"1\" class=\"dataframe\">\n",
       "  <thead>\n",
       "    <tr style=\"text-align: right;\">\n",
       "      <th></th>\n",
       "      <th>category</th>\n",
       "      <th>number_of_comments</th>\n",
       "    </tr>\n",
       "  </thead>\n",
       "  <tbody>\n",
       "    <tr>\n",
       "      <th>0</th>\n",
       "      <td>Teacher</td>\n",
       "      <td>1116</td>\n",
       "    </tr>\n",
       "    <tr>\n",
       "      <th>1</th>\n",
       "      <td>Class</td>\n",
       "      <td>1682</td>\n",
       "    </tr>\n",
       "    <tr>\n",
       "      <th>2</th>\n",
       "      <td>Assessment</td>\n",
       "      <td>1218</td>\n",
       "    </tr>\n",
       "    <tr>\n",
       "      <th>3</th>\n",
       "      <td>Resource</td>\n",
       "      <td>766</td>\n",
       "    </tr>\n",
       "    <tr>\n",
       "      <th>4</th>\n",
       "      <td>Other</td>\n",
       "      <td>1823</td>\n",
       "    </tr>\n",
       "  </tbody>\n",
       "</table>\n",
       "</div>"
      ],
      "text/plain": [
       "     category  number_of_comments\n",
       "0     Teacher                1116\n",
       "1       Class                1682\n",
       "2  Assessment                1218\n",
       "3    Resource                 766\n",
       "4       Other                1823"
      ]
     },
     "execution_count": 3,
     "metadata": {},
     "output_type": "execute_result"
    }
   ],
   "source": [
    "df_toxic = df.drop(['Comments'], axis=1)\n",
    "counts = []\n",
    "categories = list(df_toxic.columns.values)\n",
    "for i in categories:\n",
    "    counts.append((i, df_toxic[i].sum()))\n",
    "df_stats = pd.DataFrame(counts, columns=['category', 'number_of_comments'])\n",
    "df_stats"
   ]
  },
  {
   "cell_type": "code",
   "execution_count": 4,
   "metadata": {},
   "outputs": [
    {
     "data": {
      "image/png": "[encoded data removed]",
      "text/plain": [
       "<Figure size 576x360 with 1 Axes>"
      ]
     },
     "metadata": {
      "needs_background": "light"
     },
     "output_type": "display_data"
    }
   ],
   "source": [
    "ax = df_stats.plot(x='category', y='number_of_comments', kind='bar', legend=False, grid=True, figsize=(8, 5))\n",
    "plt.title(\"Number of comments per category\")\n",
    "plt.ylabel('# of Occurrences', fontsize=12)\n",
    "plt.xlabel('category', fontsize=12)\n",
    "fig = plt.gcf()"
   ]
  },
  {
   "cell_type": "code",
   "execution_count": 5,
   "metadata": {},
   "outputs": [
    {
     "name": "stdout",
     "output_type": "stream",
     "text": [
      "1    4586\n",
      "2     789\n",
      "3     123\n",
      "4      18\n",
      "0      15\n",
      "dtype: int64\n"
     ]
    },
    {
     "data": {
      "image/png": "[encoded data removed]",
      "text/plain": [
       "<Figure size 576x360 with 1 Axes>"
      ]
     },
     "metadata": {
      "needs_background": "light"
     },
     "output_type": "display_data"
    }
   ],
   "source": [
    "rowsums = df.iloc[:,1:].sum(axis=1)\n",
    "x=rowsums.value_counts()\n",
    "print (x)\n",
    "#plot\n",
    "plt.figure(figsize=(8,5))\n",
    "ax = sns.barplot(x.index, x.values)\n",
    "plt.title(\"Multiple categories per comment\")\n",
    "plt.ylabel('# of Occurrences', fontsize=12)\n",
    "plt.xlabel('# of categories', fontsize=12)\n",
    "fig = plt.gcf()\n",
    "fig.tight_layout()"
   ]
  },
  {
   "cell_type": "code",
   "execution_count": 6,
   "metadata": {},
   "outputs": [
    {
     "data": {
      "text/plain": [
       "Text(0.5,1,'Comment length distrubtion')"
      ]
     },
     "execution_count": 6,
     "metadata": {},
     "output_type": "execute_result"
    },
    {
     "data": {
      "image/png": "[encoded data removed]",
      "text/plain": [
       "<Figure size 432x288 with 1 Axes>"
      ]
     },
     "metadata": {
      "needs_background": "light"
     },
     "output_type": "display_data"
    }
   ],
   "source": [
    "lens = df.Comments.str.len()\n",
    "lens = lens.hist(bins = np.arange(0,1500,50))\n",
    "lens.set_xlabel('Smarts')\n",
    "lens.set_ylabel('HAHA')\n",
    "lens.set_title('Comment length distrubtion')"
   ]
  },
  {
   "cell_type": "code",
   "execution_count": 7,
   "metadata": {},
   "outputs": [
    {
     "name": "stdout",
     "output_type": "stream",
     "text": [
      "Percentage of comments that are not labelled:\n",
      "0.002711986982462484\n"
     ]
    }
   ],
   "source": [
    "print('Percentage of comments that are not labelled:')\n",
    "print(len(df[(df['Teacher']==0) & (df['Class']==0) & (df['Assessment']==0) & (df['Resource']== 0) & (df['Other']==0) ]) / len(df))\n"
   ]
  },
  {
   "cell_type": "code",
   "execution_count": 8,
   "metadata": {},
   "outputs": [],
   "source": [
    "def clean_text(text):\n",
    "    \n",
    "    ## Remove puncuation\n",
    "    text = text.translate(string.punctuation)\n",
    "    \n",
    "    ## Convert words to lower case and split them\n",
    "    text = text.lower().split()\n",
    "    \n",
    "    ## Remove stop words\n",
    "    stops = set(stopwords.words(\"english\"))\n",
    "    text = [w for w in text if not w in stops and len(w) >= 3]\n",
    "    \n",
    "    text = \" \".join(text)\n",
    "    ## Clean the text\n",
    "    text = re.sub(r\"[^A-Za-z0-9^,!.\\/'+-=]\", \" \", text)\n",
    "    text = re.sub(r\"what's\", \"what is \", text)\n",
    "    text = re.sub(r\"\\'s\", \" \", text)\n",
    "    text = re.sub(r\"\\'ve\", \" have \", text)\n",
    "    text = re.sub(r\"n't\", \" not \", text)\n",
    "    text = re.sub(r\"i'm\", \"i am \", text)\n",
    "    text = re.sub(r\"\\'re\", \" are \", text)\n",
    "    text = re.sub(r\"\\'d\", \" would \", text)\n",
    "    text = re.sub(r\"\\'ll\", \" will \", text)\n",
    "    text = re.sub(r\",\", \" \", text)\n",
    "    text = re.sub(r\"\\.\", \" \", text)\n",
    "    text = re.sub(r\">\", \" \", text)\n",
    "    text = re.sub(r\"<\", \" \", text)\n",
    "    text = re.sub(r\"!\", \" \", text)\n",
    "    text = re.sub(r\":\", \" \", text)\n",
    "    text = re.sub(r\"\\/\", \" \", text)\n",
    "    text = re.sub(r\"\\/\", \" \", text)\n",
    "    text = re.sub(r\"\\^\", \" \", text)\n",
    "    text = re.sub(r\"\\+\", \" \", text)\n",
    "    text = re.sub(r\"\\-\", \" \", text)\n",
    "    text = re.sub(r\"\\=\", \" \", text)\n",
    "    text = re.sub(r\"'\", \" \", text)\n",
    "    text = re.sub(r\"(\\d+)(k)\", r\"\\g<1>000\", text)\n",
    "    text = re.sub(r\":\", \" : \", text)\n",
    "    text = re.sub(r\" e g \", \" eg \", text)\n",
    "    text = re.sub(r\" b g \", \" bg \", text)\n",
    "    text = re.sub(r\" u s \", \" american \", text)\n",
    "    text = re.sub(r\"\\0s\", \"0\", text)\n",
    "    text = re.sub(r\" 9 11 \", \"911\", text)\n",
    "    text = re.sub(r\"e - mail\", \"email\", text)\n",
    "    text = re.sub(r\"j k\", \"jk\", text)\n",
    "    text = re.sub(r\"\\s{2,}\", \" \", text)\n",
    "    ## Stemming\n",
    "    text = text.split()\n",
    "    lemmatizer = WordNetLemmatizer()\n",
    "    lemmatized_words = [lemmatizer.lemmatize(word) for word in text]\n",
    "    text = \" \".join(lemmatized_words)\n",
    "    return text\n",
    "\n",
    "# apply the above function to df['text']\n",
    "df['Comments'] = df['Comments'].map(lambda x: clean_text(x))"
   ]
  },
  {
   "cell_type": "code",
   "execution_count": 9,
   "metadata": {},
   "outputs": [
    {
     "name": "stdout",
     "output_type": "stream",
     "text": [
      "(4977,)\n",
      "(554,)\n"
     ]
    }
   ],
   "source": [
    "categories = ['Teacher', 'Class', 'Assessment', 'Resource', 'Other']\n",
    "train, test = train_test_split(df, random_state=42, test_size=0.1, shuffle=True)\n",
    "X_train = train.Comments\n",
    "X_test = test.Comments\n",
    "print(X_train.shape)\n",
    "print(X_test.shape)"
   ]
  },
  {
   "cell_type": "code",
   "execution_count": 10,
   "metadata": {},
   "outputs": [],
   "source": [
    "SVC_pipeline = Pipeline([\n",
    "                ('tfidf', TfidfVectorizer()),\n",
    "                ('clf', OneVsRestClassifier(LinearSVC(penalty='l2', loss='hinge', dual=True, tol=0.0001, C=1, multi_class='ovr', fit_intercept=True, intercept_scaling=1, class_weight=None, verbose=0, random_state=42, max_iter=1000), n_jobs=-1)),\n",
    "            ])\n",
    "#for category in categories:\n",
    "#    print('... Processing {}'.format(category))\n",
    "#    # train the model using X_dtm & y\n",
    "#    SVC_pipeline.fit(X_train, train[category])\n",
    "#    # compute the testing accuracy\n",
    "#    prediction = SVC_pipeline.predict(X_test)\n",
    "#    print('Test accuracy is {}'.format(accuracy_score(test[category], prediction)))"
   ]
  },
  {
   "cell_type": "code",
   "execution_count": 11,
   "metadata": {
    "scrolled": true
   },
   "outputs": [
    {
     "name": "stdout",
     "output_type": "stream",
     "text": [
      "... Processing Teacher\n",
      "Test accuracy is 0.9043321299638989\n",
      "... Processing Class\n",
      "Test accuracy is 0.9133574007220217\n",
      "... Processing Assessment\n",
      "Test accuracy is 0.9025270758122743\n",
      "... Processing Resource\n",
      "Test accuracy is 0.8808664259927798\n",
      "... Processing Other\n",
      "Test accuracy is 0.8050541516245487\n"
     ]
    }
   ],
   "source": [
    "SGD_pipeline = Pipeline([\n",
    "                ('tfidf', TfidfVectorizer()),\n",
    "                ('clf', OneVsRestClassifier(SGDClassifier(loss='hinge', penalty='l2',alpha=1e-3, max_iter=5, random_state=42), n_jobs=1)),\n",
    "            ])\n",
    "for category in categories:\n",
    "    print('... Processing {}'.format(category))\n",
    "    # train the model using X_dtm & y\n",
    "    SGD_pipeline.fit(X_train, train[category])\n",
    "    # compute the testing accuracy\n",
    "    prediction = SGD_pipeline.predict(X_test)\n",
    "    print('Test accuracy is {}'.format(accuracy_score(test[category], prediction)))"
   ]
  },
  {
   "cell_type": "code",
   "execution_count": 12,
   "metadata": {},
   "outputs": [
    {
     "name": "stdout",
     "output_type": "stream",
     "text": [
      "... Processing Teacher\n",
      "Test accuracy is 0.8808664259927798\n",
      "... Processing Class\n",
      "Test accuracy is 0.8953068592057761\n",
      "... Processing Assessment\n",
      "Test accuracy is 0.9350180505415162\n",
      "... Processing Resource\n",
      "Test accuracy is 0.8916967509025271\n",
      "... Processing Other\n",
      "Test accuracy is 0.796028880866426\n"
     ]
    }
   ],
   "source": [
    "MLPClassifier_pipeline = Pipeline([\n",
    "                ('tfidf', TfidfVectorizer()),\n",
    "                ('clf', OneVsRestClassifier(MLPClassifier(hidden_layer_sizes=(100,),solver='lbfgs', alpha=1e-5, random_state=1), n_jobs=-1)),\n",
    "            ])\n",
    "for category in categories:\n",
    "    print('... Processing {}'.format(category))\n",
    "    # train the model using X_dtm & y\n",
    "    MLPClassifier_pipeline.fit(X_train, train[category])\n",
    "    # compute the testing accuracy\n",
    "    prediction = MLPClassifier_pipeline.predict(X_test)\n",
    "    print('Test accuracy is {}'.format(accuracy_score(test[category], prediction)))"
   ]
  },
  {
   "cell_type": "code",
   "execution_count": 13,
   "metadata": {
    "scrolled": false
   },
   "outputs": [],
   "source": [
    "#docs_new = \"I really enjoyed having the flexibility in research, as there was no restriction as to what sources we could utilize for the major assessment. i also liked the weekly seminars, they where useful to engage with the teacher on how we where going as a group on the major assignment and what other groups where doing.\"\n",
    "#docs_new = clean_text(docs_new)\n",
    "#docs_new = [docs_new]\n",
    "#print(docs_new)\n",
    "#for category in categories:\n",
    "#    MLPClassifier_pipeline.fit(X_train, train[category])\n",
    "#    print (MLPClassifier_pipeline.predict(docs_new))\n",
    "#print ('----')\n",
    "#for category in categories:\n",
    "#    SGD_pipeline.fit(X_train, train[category])\n",
    "#    print (SGD_pipeline.predict(docs_new))\n",
    "#print ('----')\n",
    "#for category in categories:\n",
    "#    SVC_pipeline.fit(X_train, train[category])\n",
    "#    print (SVC_pipeline.predict(docs_new))"
   ]
  },
  {
   "cell_type": "code",
   "execution_count": 14,
   "metadata": {},
   "outputs": [
    {
     "name": "stdout",
     "output_type": "stream",
     "text": [
      "['weekly quiz quiz really good help learning revision sometimes know thing information exists lecture note huge load content quiz help break touch stuff often overlook lab feel like conducting treatment hospital time free check participate subject experiment eg respiration exp']\n",
      "----\n",
      "[0]\n",
      "[1]\n",
      "[1]\n",
      "[1]\n",
      "[0]\n"
     ]
    }
   ],
   "source": [
    "docs_new = \"WEEKLY QUIZ! The quiz is really good to help with the learning and revision, sometimes we don't know that such thing information exists in the lecture notes because of the huge load of content, the quiz helps to break it down and touch on stuffs that we often overlook.<> LAB! feels like we are conducting treatment at a hospital, at the same time having \"\"free\"\" check up when we participate as subject in the experiment (e.g respiration exp)\"\n",
    "\n",
    "docs_new = clean_text(docs_new)\n",
    "docs_new = [docs_new]\n",
    "print(docs_new)\n",
    "print ('----')\n",
    "for category in categories:\n",
    "    SVC_pipeline.fit(X_train, train[category])\n",
    "    print (SVC_pipeline.predict(docs_new))"
   ]
  },
  {
   "cell_type": "code",
   "execution_count": 15,
   "metadata": {},
   "outputs": [
    {
     "name": "stdout",
     "output_type": "stream",
     "text": [
      "['weekly quiz']\n",
      "----\n",
      "[0]\n",
      "[0]\n",
      "[1]\n",
      "[0]\n",
      "[0]\n"
     ]
    }
   ],
   "source": [
    "docs_new = \"WEEKLY QUIZ!\"\n",
    "\n",
    "docs_new = clean_text(docs_new)\n",
    "docs_new = [docs_new]\n",
    "print(docs_new)\n",
    "print ('----')\n",
    "for category in categories:\n",
    "    SVC_pipeline.fit(X_train, train[category])\n",
    "    print (SVC_pipeline.predict(docs_new))"
   ]
  },
  {
   "cell_type": "code",
   "execution_count": 16,
   "metadata": {},
   "outputs": [
    {
     "name": "stdout",
     "output_type": "stream",
     "text": [
      "['quiz really good help learning revision']\n",
      "----\n",
      "[0]\n",
      "[0]\n",
      "[1]\n",
      "[0]\n",
      "[0]\n"
     ]
    }
   ],
   "source": [
    "docs_new = \"The quiz is really good to help with the learning and revision,\"\n",
    "\n",
    "docs_new = clean_text(docs_new)\n",
    "docs_new = [docs_new]\n",
    "print(docs_new)\n",
    "print ('----')\n",
    "for category in categories:\n",
    "    SVC_pipeline.fit(X_train, train[category])\n",
    "    print (SVC_pipeline.predict(docs_new))"
   ]
  },
  {
   "cell_type": "code",
   "execution_count": 17,
   "metadata": {},
   "outputs": [
    {
     "name": "stdout",
     "output_type": "stream",
     "text": [
      "['sometimes know thing information exists lecture note huge load content']\n",
      "----\n",
      "[0]\n",
      "[1]\n",
      "[0]\n",
      "[0]\n",
      "[0]\n"
     ]
    }
   ],
   "source": [
    "docs_new = \"sometimes we don't know that such thing information exists in the lecture notes because of the huge load of content,\"\n",
    "\n",
    "docs_new = clean_text(docs_new)\n",
    "docs_new = [docs_new]\n",
    "print(docs_new)\n",
    "print ('----')\n",
    "for category in categories:\n",
    "    SVC_pipeline.fit(X_train, train[category])\n",
    "    print (SVC_pipeline.predict(docs_new))"
   ]
  },
  {
   "cell_type": "code",
   "execution_count": 18,
   "metadata": {},
   "outputs": [
    {
     "name": "stdout",
     "output_type": "stream",
     "text": [
      "['quiz help break touch stuff often overlook']\n",
      "----\n",
      "[0]\n",
      "[0]\n",
      "[0]\n",
      "[0]\n",
      "[0]\n"
     ]
    }
   ],
   "source": [
    "docs_new = \"the quiz helps to break it down and touch on stuffs that we often overlook.\"\n",
    "\n",
    "docs_new = clean_text(docs_new)\n",
    "docs_new = [docs_new]\n",
    "print(docs_new)\n",
    "print ('----')\n",
    "for category in categories:\n",
    "    SVC_pipeline.fit(X_train, train[category])\n",
    "    print (SVC_pipeline.predict(docs_new))"
   ]
  },
  {
   "cell_type": "code",
   "execution_count": 19,
   "metadata": {},
   "outputs": [
    {
     "name": "stdout",
     "output_type": "stream",
     "text": [
      "['lab feel like conducting treatment hospital']\n",
      "----\n",
      "[0]\n",
      "[1]\n",
      "[0]\n",
      "[0]\n",
      "[0]\n"
     ]
    }
   ],
   "source": [
    "docs_new = \"<> LAB! feels like we are conducting treatment at a hospital,\"\n",
    "\n",
    "docs_new = clean_text(docs_new)\n",
    "docs_new = [docs_new]\n",
    "print(docs_new)\n",
    "print ('----')\n",
    "for category in categories:\n",
    "    SVC_pipeline.fit(X_train, train[category])\n",
    "    print (SVC_pipeline.predict(docs_new))"
   ]
  },
  {
   "cell_type": "code",
   "execution_count": 20,
   "metadata": {},
   "outputs": [
    {
     "name": "stdout",
     "output_type": "stream",
     "text": [
      "['time free check participate subject experiment eg respiration exp']\n",
      "----\n",
      "[0]\n",
      "[0]\n",
      "[0]\n",
      "[0]\n",
      "[1]\n"
     ]
    }
   ],
   "source": [
    "docs_new = ' at the same time having \"free\" check up when we participate as subject in the experiment (e.g respiration exp)'\n",
    "\n",
    "docs_new = clean_text(docs_new)\n",
    "docs_new = [docs_new]\n",
    "print(docs_new)\n",
    "print ('----')\n",
    "for category in categories:\n",
    "    SVC_pipeline.fit(X_train, train[category])\n",
    "    print (SVC_pipeline.predict(docs_new))"
   ]
  },
  {
   "cell_type": "code",
   "execution_count": null,
   "metadata": {},
   "outputs": [],
   "source": []
  }
 ],
 "metadata": {
  "kernelspec": {
   "display_name": "Python 3",
   "language": "python",
   "name": "python3"
  },
  "language_info": {
   "codemirror_mode": {
    "name": "ipython",
    "version": 3
   },
   "file_extension": ".py",
   "mimetype": "text/x-python",
   "name": "python",
   "nbconvert_exporter": "python",
   "pygments_lexer": "ipython3",
   "version": "3.7.0"
  }
 },
 "nbformat": 4,
 "nbformat_minor": 2
}
