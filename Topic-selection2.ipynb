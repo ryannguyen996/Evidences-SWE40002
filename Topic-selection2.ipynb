{
 "cells": [
  {
   "cell_type": "code",
   "execution_count": 1,
   "metadata": {},
   "outputs": [],
   "source": [
    "import pandas as pd\n",
    "import numpy as np\n",
    "from sklearn.model_selection import train_test_split\n",
    "xl = pd.ExcelFile(r\"Desktop\\banhanh\\2018\\proA\\2017 S2 Raw data Comments_Final Clean File.xlsx\")\n",
    "df = xl.parse(\"Comments\")"
   ]
  },
  {
   "cell_type": "code",
   "execution_count": 2,
   "metadata": {},
   "outputs": [
    {
     "name": "stdout",
     "output_type": "stream",
     "text": [
      "Topic 0:\n",
      "good overall pretty really far teacher lecturer tutor teaching thing\n",
      "Topic 1:\n",
      "assignment work assignments group time students learning better project like\n",
      "Topic 2:\n",
      "lectures engaging labs informative recorded tutes interactive guest long hour\n",
      "Topic 3:\n",
      "unit organised think satisfied overall really enjoyed best improved happy\n",
      "Topic 4:\n",
      "tutorials longer helpful engaging interactive discussions questions hour better discussion\n",
      "Topic 5:\n",
      "content relevant course delivery understand covered easy lot engaging teaching\n",
      "Topic 6:\n",
      "lecture slides tutorial time hour notes hours times having information\n",
      "Topic 7:\n",
      "class time discussions discussion activities tutorial classes teacher online hour\n",
      "Topic 8:\n",
      "great really lecturer tutor teacher subject teaching experience fun teachers\n",
      "Topic 9:\n",
      "interesting topics really engaging subject fun relevant make enjoyed topic\n",
      "Topic 0:\n",
      "students better learning tasks work student practical help structure understanding\n",
      "Topic 1:\n",
      "time class lecture tutorial week hour hours better material presentation\n",
      "Topic 2:\n",
      "classes course assessments exam knowledge online just focus tests practice\n",
      "Topic 3:\n",
      "lecture blackboard slides assessment lecturer know unit organised study students\n",
      "Topic 4:\n",
      "lectures content tutorials information weeks interesting helpful labs week relevant\n",
      "Topic 5:\n",
      "assignment like semester felt understand unit final feedback use marks\n",
      "Topic 6:\n",
      "good assignments need lab unit test clear overall improved engaging\n",
      "Topic 7:\n",
      "group work project class hard make students people time real\n",
      "Topic 8:\n",
      "bit little difficult did quite feel having research complete long\n",
      "Topic 9:\n",
      "unit think really subject great just maybe don needed needs\n"
     ]
    }
   ],
   "source": [
    "from sklearn.feature_extraction.text import TfidfVectorizer, CountVectorizer\n",
    "from sklearn.datasets import fetch_20newsgroups\n",
    "from sklearn.decomposition import NMF, LatentDirichletAllocation\n",
    "\n",
    "def display_topics(model, feature_names, no_top_words):\n",
    "    for topic_idx, topic in enumerate(model.components_):\n",
    "        print (\"Topic %d:\" % (topic_idx))\n",
    "        print (\" \".join([feature_names[i]\n",
    "                        for i in topic.argsort()[:-no_top_words - 1:-1]]))\n",
    "\n",
    "dataset = fetch_20newsgroups(shuffle=True, random_state=1, remove=('headers', 'footers', 'quotes'))\n",
    "documents = df['Comments']\n",
    "\n",
    "no_features = 1000\n",
    "\n",
    "# NMF is able to use tf-idf\n",
    "tfidf_vectorizer = TfidfVectorizer(max_df=0.95, min_df=2, max_features=no_features, stop_words='english')\n",
    "tfidf = tfidf_vectorizer.fit_transform(documents)\n",
    "tfidf_feature_names = tfidf_vectorizer.get_feature_names()\n",
    "\n",
    "# LDA can only use raw term counts for LDA because it is a probabilistic graphical model\n",
    "tf_vectorizer = CountVectorizer(max_df=0.95, min_df=2, max_features=no_features, stop_words='english')\n",
    "tf = tf_vectorizer.fit_transform(documents)\n",
    "tf_feature_names = tf_vectorizer.get_feature_names()\n",
    "\n",
    "no_topics = 10\n",
    "\n",
    "# Run NMF\n",
    "nmf = NMF(n_components=no_topics, random_state=1, alpha=.1, l1_ratio=.5, init='nndsvd').fit(tfidf)\n",
    "\n",
    "# Run LDA\n",
    "lda = LatentDirichletAllocation(n_components=no_topics, max_iter=5, learning_method='online', learning_offset=50.,random_state=0).fit(tf)\n",
    "\n",
    "no_top_words = 10\n",
    "display_topics(nmf, tfidf_feature_names, no_top_words)\n",
    "display_topics(lda, tf_feature_names, no_top_words)"
   ]
  },
  {
   "cell_type": "code",
   "execution_count": null,
   "metadata": {},
   "outputs": [],
   "source": []
  }
 ],
 "metadata": {
  "kernelspec": {
   "display_name": "Python 3",
   "language": "python",
   "name": "python3"
  },
  "language_info": {
   "codemirror_mode": {
    "name": "ipython",
    "version": 3
   },
   "file_extension": ".py",
   "mimetype": "text/x-python",
   "name": "python",
   "nbconvert_exporter": "python",
   "pygments_lexer": "ipython3",
   "version": "3.7.0"
  }
 },
 "nbformat": 4,
 "nbformat_minor": 2
}
